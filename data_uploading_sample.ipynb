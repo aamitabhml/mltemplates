{
  "nbformat": 4,
  "nbformat_minor": 0,
  "metadata": {
    "colab": {
      "name": "data_uploading_sample.ipynb",
      "provenance": [],
      "collapsed_sections": [],
      "authorship_tag": "ABX9TyPVA7dvDEV7WpNQRtC8RuFV",
      "include_colab_link": true
    },
    "kernelspec": {
      "name": "python3",
      "display_name": "Python 3"
    }
  },
  "cells": [
    {
      "cell_type": "markdown",
      "metadata": {
        "id": "view-in-github",
        "colab_type": "text"
      },
      "source": [
        "<a href=\"https://colab.research.google.com/github/aamitabh/mltemplates/blob/master/data_uploading_sample.ipynb\" target=\"_parent\"><img src=\"https://colab.research.google.com/assets/colab-badge.svg\" alt=\"Open In Colab\"/></a>"
      ]
    },
    {
      "cell_type": "markdown",
      "metadata": {
        "id": "M0jvntfF2sp3",
        "colab_type": "text"
      },
      "source": [
        "## Mounting Google Drive\n",
        "\t\n",
        "Then you can load data directly from drive: [reference](https://www.kdnuggets.com/2019/01/more-google-colab-environment-management-tips.html)\n",
        "~~~~\n",
        "import pandas as pd\n",
        "titanic_train = pd.read_csv('/content/gdrive/My Drive/Colab Notebooks/datasets/titanic/train_clean.csv')\n",
        "~~~~"
      ]
    },
    {
      "cell_type": "code",
      "metadata": {
        "id": "hz2QHB8D2oXi",
        "colab_type": "code",
        "colab": {}
      },
      "source": [
        "from google.colab import drive \n",
        "drive.mount('/content/gdrive')\n",
        "!ls /content/gdrive/My\\ Drive/Colab\\ Notebooks\n",
        "\n",
        "# Syntax for loading file from Google Drive directly\n",
        "# Reference: https://www.kdnuggets.com/2019/01/more-google-colab-environment-management-tips.html\n",
        "# import pandas as pd\n",
        "# titanic_train = pd.read_csv('/content/gdrive/My Drive/Colab Notebooks/datasets/titanic/train_clean.csv')"
      ],
      "execution_count": 0,
      "outputs": []
    },
    {
      "cell_type": "markdown",
      "metadata": {
        "id": "nZ2iZ4vr3QFf",
        "colab_type": "text"
      },
      "source": [
        "## Loading data file from GitHub (See [link](https://towardsdatascience.com/downloading-datasets-into-google-drive-via-google-colab-bcb1b30b0166) for other approaches)\n"
      ]
    },
    {
      "cell_type": "code",
      "metadata": {
        "id": "_gPsgVcA3dJg",
        "colab_type": "code",
        "colab": {}
      },
      "source": [
        "import io, os, sys, types, time, datetime, math, random, requests, subprocess, tempfile\n",
        "if not os.path.exists('test'):\n",
        "  !git clone https://github.com/aamitabh/test.git\n",
        "else:\n",
        "  !(cd test; git pull https://github.com/aamitabh/test.git)\n",
        "!ls test"
      ],
      "execution_count": 0,
      "outputs": []
    }
  ]
}